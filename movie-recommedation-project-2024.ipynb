{
 "cells": [
  {
   "cell_type": "code",
   "execution_count": 1,
   "id": "0724c0a8",
   "metadata": {
    "_cell_guid": "b1076dfc-b9ad-4769-8c92-a6c4dae69d19",
    "_uuid": "8f2839f25d086af736a60e9eeb907d3b93b6e0e5",
    "execution": {
     "iopub.execute_input": "2024-06-22T18:53:29.249016Z",
     "iopub.status.busy": "2024-06-22T18:53:29.248485Z",
     "iopub.status.idle": "2024-06-22T18:53:30.375021Z",
     "shell.execute_reply": "2024-06-22T18:53:30.373604Z"
    },
    "papermill": {
     "duration": 1.137997,
     "end_time": "2024-06-22T18:53:30.377950",
     "exception": false,
     "start_time": "2024-06-22T18:53:29.239953",
     "status": "completed"
    },
    "tags": []
   },
   "outputs": [
    {
     "name": "stdout",
     "output_type": "stream",
     "text": [
      "/kaggle/input/alx-movie-recommendation-project-2024/sample_submission.csv\n",
      "/kaggle/input/alx-movie-recommendation-project-2024/movies.csv\n",
      "/kaggle/input/alx-movie-recommendation-project-2024/imdb_data.csv\n",
      "/kaggle/input/alx-movie-recommendation-project-2024/genome_tags.csv\n",
      "/kaggle/input/alx-movie-recommendation-project-2024/genome_scores.csv\n",
      "/kaggle/input/alx-movie-recommendation-project-2024/train.csv\n",
      "/kaggle/input/alx-movie-recommendation-project-2024/test.csv\n",
      "/kaggle/input/alx-movie-recommendation-project-2024/tags.csv\n",
      "/kaggle/input/alx-movie-recommendation-project-2024/links.csv\n"
     ]
    }
   ],
   "source": [
    "# This Python 3 environment comes with many helpful analytics libraries installed\n",
    "# It is defined by the kaggle/python Docker image: https://github.com/kaggle/docker-python\n",
    "# For example, here's several helpful packages to load\n",
    "\n",
    "import numpy as np # linear algebra\n",
    "import pandas as pd # data processing, CSV file I/O (e.g. pd.read_csv)\n",
    "\n",
    "# Input data files are available in the read-only \"../input/\" directory\n",
    "# For example, running this (by clicking run or pressing Shift+Enter) will list all files under the input directory\n",
    "\n",
    "import os\n",
    "for dirname, _, filenames in os.walk('/kaggle/input'):\n",
    "    for filename in filenames:\n",
    "        print(os.path.join(dirname, filename))\n",
    "\n",
    "# You can write up to 20GB to the current directory (/kaggle/working/) that gets preserved as output when you create a version using \"Save & Run All\" \n",
    "# You can also write temporary files to /kaggle/temp/, but they won't be saved outside of the current session"
   ]
  },
  {
   "cell_type": "code",
   "execution_count": 2,
   "id": "d3ea3c49",
   "metadata": {
    "execution": {
     "iopub.execute_input": "2024-06-22T18:53:30.393865Z",
     "iopub.status.busy": "2024-06-22T18:53:30.393240Z",
     "iopub.status.idle": "2024-06-22T18:53:33.071246Z",
     "shell.execute_reply": "2024-06-22T18:53:33.069927Z"
    },
    "papermill": {
     "duration": 2.689102,
     "end_time": "2024-06-22T18:53:33.074497",
     "exception": false,
     "start_time": "2024-06-22T18:53:30.385395",
     "status": "completed"
    },
    "tags": []
   },
   "outputs": [],
   "source": [
    "from tqdm import tqdm\n",
    "import heapq\n",
    "import datetime\n",
    "from sklearn import preprocessing\n",
    "from sklearn.datasets import make_blobs\n",
    "from sklearn.preprocessing import StandardScaler\n",
    "from sklearn.feature_extraction.text import TfidfVectorizer\n",
    "from sklearn.metrics.pairwise import cosine_similarity\n",
    "import re\n",
    "from scipy.sparse import csr_matrix\n",
    "import scipy as sp\n",
    "\n",
    "\n",
    "# Packages for visualization\n",
    "import matplotlib.pyplot as plt\n",
    "import seaborn as sns\n",
    "%matplotlib inline\n",
    "\n",
    "# Packages for modeling\n",
    "from surprise import Reader\n",
    "from surprise import Dataset\n",
    "from surprise import KNNWithMeans\n",
    "from surprise import KNNBasic\n",
    "from surprise.model_selection import cross_validate\n",
    "from surprise.model_selection import GridSearchCV\n",
    "from surprise import SVD\n",
    "from surprise import SVDpp\n",
    "from surprise import NMF\n",
    "from surprise import SlopeOne\n",
    "from surprise import CoClustering\n",
    "import heapq\n",
    "\n",
    "# Packages for model evaluation\n",
    "from sklearn.metrics import mean_squared_error\n",
    "from sklearn.metrics import mean_absolute_error\n",
    "from time import time\n",
    "\n",
    "# Package to suppress warnings\n",
    "import warnings\n",
    "warnings.filterwarnings(\"ignore\")\n",
    "\n",
    "# Packages for saving models\n",
    "import pickle"
   ]
  },
  {
   "cell_type": "code",
   "execution_count": 3,
   "id": "2373ad6b",
   "metadata": {
    "execution": {
     "iopub.execute_input": "2024-06-22T18:53:33.090552Z",
     "iopub.status.busy": "2024-06-22T18:53:33.089983Z",
     "iopub.status.idle": "2024-06-22T18:53:50.692423Z",
     "shell.execute_reply": "2024-06-22T18:53:50.691008Z"
    },
    "papermill": {
     "duration": 17.614386,
     "end_time": "2024-06-22T18:53:50.695880",
     "exception": false,
     "start_time": "2024-06-22T18:53:33.081494",
     "status": "completed"
    },
    "tags": []
   },
   "outputs": [],
   "source": [
    "# load the data\n",
    "\n",
    "train_df = pd.read_csv('/kaggle/input/alx-movie-recommendation-project-2024/train.csv')\n",
    "movies_df = pd.read_csv('/kaggle/input/alx-movie-recommendation-project-2024/movies.csv')\n",
    "imdb_df = pd.read_csv('/kaggle/input/alx-movie-recommendation-project-2024/imdb_data.csv')\n",
    "test_df = pd.read_csv('/kaggle/input/alx-movie-recommendation-project-2024/test.csv')\n",
    "links_df = pd.read_csv('/kaggle/input/alx-movie-recommendation-project-2024/links.csv')\n",
    "tags = pd.read_csv('/kaggle/input/alx-movie-recommendation-project-2024/tags.csv')\n",
    "genome_scores = pd.read_csv('/kaggle/input/alx-movie-recommendation-project-2024/genome_tags.csv')\n",
    "genome_tags = pd.read_csv('/kaggle/input/alx-movie-recommendation-project-2024/tags.csv')\n",
    "sample_submissions = pd.read_csv('/kaggle/input/alx-movie-recommendation-project-2024/sample_submission.csv')"
   ]
  },
  {
   "cell_type": "code",
   "execution_count": 4,
   "id": "37be9e8e",
   "metadata": {
    "execution": {
     "iopub.execute_input": "2024-06-22T18:53:50.710764Z",
     "iopub.status.busy": "2024-06-22T18:53:50.710304Z",
     "iopub.status.idle": "2024-06-22T18:53:50.738359Z",
     "shell.execute_reply": "2024-06-22T18:53:50.736921Z"
    },
    "papermill": {
     "duration": 0.03875,
     "end_time": "2024-06-22T18:53:50.741330",
     "exception": false,
     "start_time": "2024-06-22T18:53:50.702580",
     "status": "completed"
    },
    "tags": []
   },
   "outputs": [
    {
     "data": {
      "text/html": [
       "<div>\n",
       "<style scoped>\n",
       "    .dataframe tbody tr th:only-of-type {\n",
       "        vertical-align: middle;\n",
       "    }\n",
       "\n",
       "    .dataframe tbody tr th {\n",
       "        vertical-align: top;\n",
       "    }\n",
       "\n",
       "    .dataframe thead th {\n",
       "        text-align: right;\n",
       "    }\n",
       "</style>\n",
       "<table border=\"1\" class=\"dataframe\">\n",
       "  <thead>\n",
       "    <tr style=\"text-align: right;\">\n",
       "      <th></th>\n",
       "      <th>movieId</th>\n",
       "      <th>title</th>\n",
       "      <th>genres</th>\n",
       "    </tr>\n",
       "  </thead>\n",
       "  <tbody>\n",
       "    <tr>\n",
       "      <th>0</th>\n",
       "      <td>1</td>\n",
       "      <td>Toy Story (1995)</td>\n",
       "      <td>Adventure|Animation|Children|Comedy|Fantasy</td>\n",
       "    </tr>\n",
       "    <tr>\n",
       "      <th>1</th>\n",
       "      <td>2</td>\n",
       "      <td>Jumanji (1995)</td>\n",
       "      <td>Adventure|Children|Fantasy</td>\n",
       "    </tr>\n",
       "    <tr>\n",
       "      <th>2</th>\n",
       "      <td>3</td>\n",
       "      <td>Grumpier Old Men (1995)</td>\n",
       "      <td>Comedy|Romance</td>\n",
       "    </tr>\n",
       "    <tr>\n",
       "      <th>3</th>\n",
       "      <td>4</td>\n",
       "      <td>Waiting to Exhale (1995)</td>\n",
       "      <td>Comedy|Drama|Romance</td>\n",
       "    </tr>\n",
       "    <tr>\n",
       "      <th>4</th>\n",
       "      <td>5</td>\n",
       "      <td>Father of the Bride Part II (1995)</td>\n",
       "      <td>Comedy</td>\n",
       "    </tr>\n",
       "  </tbody>\n",
       "</table>\n",
       "</div>"
      ],
      "text/plain": [
       "   movieId                               title  \\\n",
       "0        1                    Toy Story (1995)   \n",
       "1        2                      Jumanji (1995)   \n",
       "2        3             Grumpier Old Men (1995)   \n",
       "3        4            Waiting to Exhale (1995)   \n",
       "4        5  Father of the Bride Part II (1995)   \n",
       "\n",
       "                                        genres  \n",
       "0  Adventure|Animation|Children|Comedy|Fantasy  \n",
       "1                   Adventure|Children|Fantasy  \n",
       "2                               Comedy|Romance  \n",
       "3                         Comedy|Drama|Romance  \n",
       "4                                       Comedy  "
      ]
     },
     "execution_count": 4,
     "metadata": {},
     "output_type": "execute_result"
    }
   ],
   "source": [
    "movies_df.head()"
   ]
  },
  {
   "cell_type": "code",
   "execution_count": 5,
   "id": "a4105047",
   "metadata": {
    "execution": {
     "iopub.execute_input": "2024-06-22T18:53:50.756944Z",
     "iopub.status.busy": "2024-06-22T18:53:50.756247Z",
     "iopub.status.idle": "2024-06-22T18:53:50.765016Z",
     "shell.execute_reply": "2024-06-22T18:53:50.763682Z"
    },
    "papermill": {
     "duration": 0.019807,
     "end_time": "2024-06-22T18:53:50.767748",
     "exception": false,
     "start_time": "2024-06-22T18:53:50.747941",
     "status": "completed"
    },
    "tags": []
   },
   "outputs": [
    {
     "data": {
      "text/plain": [
       "(62423, 3)"
      ]
     },
     "execution_count": 5,
     "metadata": {},
     "output_type": "execute_result"
    }
   ],
   "source": [
    "movies_df.shape"
   ]
  },
  {
   "cell_type": "code",
   "execution_count": 6,
   "id": "6f65e549",
   "metadata": {
    "execution": {
     "iopub.execute_input": "2024-06-22T18:53:50.783973Z",
     "iopub.status.busy": "2024-06-22T18:53:50.783455Z",
     "iopub.status.idle": "2024-06-22T18:53:51.012411Z",
     "shell.execute_reply": "2024-06-22T18:53:51.010754Z"
    },
    "papermill": {
     "duration": 0.240558,
     "end_time": "2024-06-22T18:53:51.015350",
     "exception": false,
     "start_time": "2024-06-22T18:53:50.774792",
     "status": "completed"
    },
    "tags": []
   },
   "outputs": [
    {
     "name": "stdout",
     "output_type": "stream",
     "text": [
      "Train: \n",
      "userId       0\n",
      "movieId      0\n",
      "rating       0\n",
      "timestamp    0\n",
      "dtype: int64\n",
      "************\n",
      "Test: \n",
      "userId     0\n",
      "movieId    0\n",
      "dtype: int64\n",
      "************\n",
      "Movies: \n",
      "movieId    0\n",
      "title      0\n",
      "genres     0\n",
      "dtype: int64\n",
      "************\n",
      "Links: \n",
      "movieId      0\n",
      "imdbId       0\n",
      "tmdbId     107\n",
      "dtype: int64\n",
      "************\n",
      "IMDB: \n",
      "movieId              0\n",
      "title_cast       10068\n",
      "director          9874\n",
      "runtime          12089\n",
      "budget           19372\n",
      "plot_keywords    11078\n",
      "dtype: int64\n",
      "************\n",
      "Genome scores: \n",
      "tagId    0\n",
      "tag      0\n",
      "dtype: int64\n",
      "************\n",
      "Genome tags: \n",
      "userId        0\n",
      "movieId       0\n",
      "tag          16\n",
      "timestamp     0\n",
      "dtype: int64\n"
     ]
    }
   ],
   "source": [
    "\n",
    "\n",
    "print(\"Train: \")\n",
    "print(str(train_df.isnull().sum()))\n",
    "print(\"************\")\n",
    "print(\"Test: \")\n",
    "print(str(test_df.isnull().sum()))\n",
    "print(\"************\")\n",
    "print(\"Movies: \")\n",
    "print(str(movies_df.isnull().sum()))\n",
    "print(\"************\")\n",
    "print(\"Links: \")\n",
    "print(str(links_df.isnull().sum()))\n",
    "print(\"************\")\n",
    "print(\"IMDB: \")\n",
    "print(str(imdb_df.isnull().sum()))\n",
    "print(\"************\")\n",
    "print(\"Genome scores: \")\n",
    "print(str(genome_scores.isnull().sum()))\n",
    "print(\"************\")\n",
    "print(\"Genome tags: \")\n",
    "print(str(genome_tags.isnull().sum()))"
   ]
  },
  {
   "cell_type": "code",
   "execution_count": 7,
   "id": "15fa81ac",
   "metadata": {
    "execution": {
     "iopub.execute_input": "2024-06-22T18:53:51.031161Z",
     "iopub.status.busy": "2024-06-22T18:53:51.030675Z",
     "iopub.status.idle": "2024-06-22T18:53:51.044937Z",
     "shell.execute_reply": "2024-06-22T18:53:51.043468Z"
    },
    "papermill": {
     "duration": 0.025616,
     "end_time": "2024-06-22T18:53:51.047859",
     "exception": false,
     "start_time": "2024-06-22T18:53:51.022243",
     "status": "completed"
    },
    "tags": []
   },
   "outputs": [
    {
     "data": {
      "text/html": [
       "<div>\n",
       "<style scoped>\n",
       "    .dataframe tbody tr th:only-of-type {\n",
       "        vertical-align: middle;\n",
       "    }\n",
       "\n",
       "    .dataframe tbody tr th {\n",
       "        vertical-align: top;\n",
       "    }\n",
       "\n",
       "    .dataframe thead th {\n",
       "        text-align: right;\n",
       "    }\n",
       "</style>\n",
       "<table border=\"1\" class=\"dataframe\">\n",
       "  <thead>\n",
       "    <tr style=\"text-align: right;\">\n",
       "      <th></th>\n",
       "      <th>movieId</th>\n",
       "      <th>title</th>\n",
       "      <th>genres</th>\n",
       "    </tr>\n",
       "  </thead>\n",
       "  <tbody>\n",
       "    <tr>\n",
       "      <th>0</th>\n",
       "      <td>1</td>\n",
       "      <td>Toy Story (1995)</td>\n",
       "      <td>Adventure|Animation|Children|Comedy|Fantasy</td>\n",
       "    </tr>\n",
       "    <tr>\n",
       "      <th>1</th>\n",
       "      <td>2</td>\n",
       "      <td>Jumanji (1995)</td>\n",
       "      <td>Adventure|Children|Fantasy</td>\n",
       "    </tr>\n",
       "    <tr>\n",
       "      <th>2</th>\n",
       "      <td>3</td>\n",
       "      <td>Grumpier Old Men (1995)</td>\n",
       "      <td>Comedy|Romance</td>\n",
       "    </tr>\n",
       "    <tr>\n",
       "      <th>3</th>\n",
       "      <td>4</td>\n",
       "      <td>Waiting to Exhale (1995)</td>\n",
       "      <td>Comedy|Drama|Romance</td>\n",
       "    </tr>\n",
       "    <tr>\n",
       "      <th>4</th>\n",
       "      <td>5</td>\n",
       "      <td>Father of the Bride Part II (1995)</td>\n",
       "      <td>Comedy</td>\n",
       "    </tr>\n",
       "  </tbody>\n",
       "</table>\n",
       "</div>"
      ],
      "text/plain": [
       "   movieId                               title  \\\n",
       "0        1                    Toy Story (1995)   \n",
       "1        2                      Jumanji (1995)   \n",
       "2        3             Grumpier Old Men (1995)   \n",
       "3        4            Waiting to Exhale (1995)   \n",
       "4        5  Father of the Bride Part II (1995)   \n",
       "\n",
       "                                        genres  \n",
       "0  Adventure|Animation|Children|Comedy|Fantasy  \n",
       "1                   Adventure|Children|Fantasy  \n",
       "2                               Comedy|Romance  \n",
       "3                         Comedy|Drama|Romance  \n",
       "4                                       Comedy  "
      ]
     },
     "execution_count": 7,
     "metadata": {},
     "output_type": "execute_result"
    }
   ],
   "source": [
    "movies_df.head()"
   ]
  },
  {
   "cell_type": "code",
   "execution_count": 8,
   "id": "c680462b",
   "metadata": {
    "execution": {
     "iopub.execute_input": "2024-06-22T18:53:51.064588Z",
     "iopub.status.busy": "2024-06-22T18:53:51.064116Z",
     "iopub.status.idle": "2024-06-22T18:53:51.080817Z",
     "shell.execute_reply": "2024-06-22T18:53:51.079543Z"
    },
    "papermill": {
     "duration": 0.028443,
     "end_time": "2024-06-22T18:53:51.083718",
     "exception": false,
     "start_time": "2024-06-22T18:53:51.055275",
     "status": "completed"
    },
    "tags": []
   },
   "outputs": [
    {
     "data": {
      "text/html": [
       "<div>\n",
       "<style scoped>\n",
       "    .dataframe tbody tr th:only-of-type {\n",
       "        vertical-align: middle;\n",
       "    }\n",
       "\n",
       "    .dataframe tbody tr th {\n",
       "        vertical-align: top;\n",
       "    }\n",
       "\n",
       "    .dataframe thead th {\n",
       "        text-align: right;\n",
       "    }\n",
       "</style>\n",
       "<table border=\"1\" class=\"dataframe\">\n",
       "  <thead>\n",
       "    <tr style=\"text-align: right;\">\n",
       "      <th></th>\n",
       "      <th>userId</th>\n",
       "      <th>movieId</th>\n",
       "      <th>rating</th>\n",
       "      <th>timestamp</th>\n",
       "    </tr>\n",
       "  </thead>\n",
       "  <tbody>\n",
       "    <tr>\n",
       "      <th>0</th>\n",
       "      <td>5163</td>\n",
       "      <td>57669</td>\n",
       "      <td>4.0</td>\n",
       "      <td>1518349992</td>\n",
       "    </tr>\n",
       "    <tr>\n",
       "      <th>1</th>\n",
       "      <td>106343</td>\n",
       "      <td>5</td>\n",
       "      <td>4.5</td>\n",
       "      <td>1206238739</td>\n",
       "    </tr>\n",
       "    <tr>\n",
       "      <th>2</th>\n",
       "      <td>146790</td>\n",
       "      <td>5459</td>\n",
       "      <td>5.0</td>\n",
       "      <td>1076215539</td>\n",
       "    </tr>\n",
       "    <tr>\n",
       "      <th>3</th>\n",
       "      <td>106362</td>\n",
       "      <td>32296</td>\n",
       "      <td>2.0</td>\n",
       "      <td>1423042565</td>\n",
       "    </tr>\n",
       "    <tr>\n",
       "      <th>4</th>\n",
       "      <td>9041</td>\n",
       "      <td>366</td>\n",
       "      <td>3.0</td>\n",
       "      <td>833375837</td>\n",
       "    </tr>\n",
       "  </tbody>\n",
       "</table>\n",
       "</div>"
      ],
      "text/plain": [
       "   userId  movieId  rating   timestamp\n",
       "0    5163    57669     4.0  1518349992\n",
       "1  106343        5     4.5  1206238739\n",
       "2  146790     5459     5.0  1076215539\n",
       "3  106362    32296     2.0  1423042565\n",
       "4    9041      366     3.0   833375837"
      ]
     },
     "execution_count": 8,
     "metadata": {},
     "output_type": "execute_result"
    }
   ],
   "source": [
    "train_df.head()"
   ]
  },
  {
   "cell_type": "code",
   "execution_count": 9,
   "id": "8a19fceb",
   "metadata": {
    "execution": {
     "iopub.execute_input": "2024-06-22T18:53:51.101288Z",
     "iopub.status.busy": "2024-06-22T18:53:51.100800Z",
     "iopub.status.idle": "2024-06-22T18:53:51.113397Z",
     "shell.execute_reply": "2024-06-22T18:53:51.111929Z"
    },
    "papermill": {
     "duration": 0.024897,
     "end_time": "2024-06-22T18:53:51.116457",
     "exception": false,
     "start_time": "2024-06-22T18:53:51.091560",
     "status": "completed"
    },
    "tags": []
   },
   "outputs": [
    {
     "data": {
      "text/html": [
       "<div>\n",
       "<style scoped>\n",
       "    .dataframe tbody tr th:only-of-type {\n",
       "        vertical-align: middle;\n",
       "    }\n",
       "\n",
       "    .dataframe tbody tr th {\n",
       "        vertical-align: top;\n",
       "    }\n",
       "\n",
       "    .dataframe thead th {\n",
       "        text-align: right;\n",
       "    }\n",
       "</style>\n",
       "<table border=\"1\" class=\"dataframe\">\n",
       "  <thead>\n",
       "    <tr style=\"text-align: right;\">\n",
       "      <th></th>\n",
       "      <th>userId</th>\n",
       "      <th>movieId</th>\n",
       "    </tr>\n",
       "  </thead>\n",
       "  <tbody>\n",
       "    <tr>\n",
       "      <th>0</th>\n",
       "      <td>1</td>\n",
       "      <td>2011</td>\n",
       "    </tr>\n",
       "    <tr>\n",
       "      <th>1</th>\n",
       "      <td>1</td>\n",
       "      <td>4144</td>\n",
       "    </tr>\n",
       "    <tr>\n",
       "      <th>2</th>\n",
       "      <td>1</td>\n",
       "      <td>5767</td>\n",
       "    </tr>\n",
       "    <tr>\n",
       "      <th>3</th>\n",
       "      <td>1</td>\n",
       "      <td>6711</td>\n",
       "    </tr>\n",
       "    <tr>\n",
       "      <th>4</th>\n",
       "      <td>1</td>\n",
       "      <td>7318</td>\n",
       "    </tr>\n",
       "  </tbody>\n",
       "</table>\n",
       "</div>"
      ],
      "text/plain": [
       "   userId  movieId\n",
       "0       1     2011\n",
       "1       1     4144\n",
       "2       1     5767\n",
       "3       1     6711\n",
       "4       1     7318"
      ]
     },
     "execution_count": 9,
     "metadata": {},
     "output_type": "execute_result"
    }
   ],
   "source": [
    "test_df.head()"
   ]
  },
  {
   "cell_type": "code",
   "execution_count": 10,
   "id": "1df10b5f",
   "metadata": {
    "execution": {
     "iopub.execute_input": "2024-06-22T18:53:51.134608Z",
     "iopub.status.busy": "2024-06-22T18:53:51.134156Z",
     "iopub.status.idle": "2024-06-22T18:54:08.925417Z",
     "shell.execute_reply": "2024-06-22T18:54:08.924160Z"
    },
    "papermill": {
     "duration": 17.803918,
     "end_time": "2024-06-22T18:54:08.928431",
     "exception": false,
     "start_time": "2024-06-22T18:53:51.124513",
     "status": "completed"
    },
    "tags": []
   },
   "outputs": [],
   "source": [
    "# Prepare the data for the Surprise library\n",
    "reader = Reader(rating_scale=(0.5, 5.0))\n",
    "data = Dataset.load_from_df(train_df[['userId', 'movieId', 'rating']], reader)"
   ]
  },
  {
   "cell_type": "code",
   "execution_count": 11,
   "id": "3900d3c4",
   "metadata": {
    "execution": {
     "iopub.execute_input": "2024-06-22T18:54:08.945859Z",
     "iopub.status.busy": "2024-06-22T18:54:08.945309Z",
     "iopub.status.idle": "2024-06-22T18:59:30.884348Z",
     "shell.execute_reply": "2024-06-22T18:59:30.882913Z"
    },
    "papermill": {
     "duration": 321.958726,
     "end_time": "2024-06-22T18:59:30.894780",
     "exception": false,
     "start_time": "2024-06-22T18:54:08.936054",
     "status": "completed"
    },
    "tags": []
   },
   "outputs": [
    {
     "data": {
      "text/plain": [
       "<surprise.prediction_algorithms.matrix_factorization.SVD at 0x7a89a57bc430>"
      ]
     },
     "execution_count": 11,
     "metadata": {},
     "output_type": "execute_result"
    }
   ],
   "source": [
    "# Train the models\n",
    "\n",
    "svd = SVD()\n",
    "trainset = data.build_full_trainset()\n",
    "svd.fit(trainset)"
   ]
  },
  {
   "cell_type": "code",
   "execution_count": 12,
   "id": "fcedd6cd",
   "metadata": {
    "execution": {
     "iopub.execute_input": "2024-06-22T18:59:30.912755Z",
     "iopub.status.busy": "2024-06-22T18:59:30.912342Z",
     "iopub.status.idle": "2024-06-22T19:01:04.998059Z",
     "shell.execute_reply": "2024-06-22T19:01:04.996450Z"
    },
    "papermill": {
     "duration": 94.097958,
     "end_time": "2024-06-22T19:01:05.001316",
     "exception": false,
     "start_time": "2024-06-22T18:59:30.903358",
     "status": "completed"
    },
    "tags": []
   },
   "outputs": [],
   "source": [
    "# Create a set of test pairs\n",
    "test_pairs = set(test_df.apply(lambda row: f\"{row['userId']}_{row['movieId']}\", axis=1))\n",
    "\n",
    "def get_predictions_batch(svd, test_pairs, batch_size=1000):\n",
    "    predictions = {}\n",
    "    for i in tqdm(range(0, len(test_pairs), batch_size)):\n",
    "        batch_pairs = list(test_pairs)[i:i+batch_size]\n",
    "        for pair in batch_pairs:\n",
    "            user, movie = map(int, pair.split('_'))\n",
    "            est = svd.predict(user, movie).est\n",
    "            predictions[pair] = est\n",
    "    return predictions"
   ]
  },
  {
   "cell_type": "code",
   "execution_count": 13,
   "id": "f8bb44fb",
   "metadata": {
    "execution": {
     "iopub.execute_input": "2024-06-22T19:01:05.019165Z",
     "iopub.status.busy": "2024-06-22T19:01:05.018671Z",
     "iopub.status.idle": "2024-06-22T19:39:30.545100Z",
     "shell.execute_reply": "2024-06-22T19:39:30.543445Z"
    },
    "papermill": {
     "duration": 2305.538601,
     "end_time": "2024-06-22T19:39:30.547955",
     "exception": false,
     "start_time": "2024-06-22T19:01:05.009354",
     "status": "completed"
    },
    "tags": []
   },
   "outputs": [
    {
     "name": "stdout",
     "output_type": "stream",
     "text": [
      "Getting predictions...\n"
     ]
    },
    {
     "name": "stderr",
     "output_type": "stream",
     "text": [
      "100%|██████████| 5001/5001 [38:25<00:00,  2.17it/s]\n"
     ]
    }
   ],
   "source": [
    "# Generate the prediction\n",
    "\n",
    "print(\"Getting predictions...\")\n",
    "predictions = get_predictions_batch(svd, test_pairs)"
   ]
  },
  {
   "cell_type": "code",
   "execution_count": 14,
   "id": "5a0cc285",
   "metadata": {
    "execution": {
     "iopub.execute_input": "2024-06-22T19:39:31.524296Z",
     "iopub.status.busy": "2024-06-22T19:39:31.523829Z",
     "iopub.status.idle": "2024-06-22T19:39:35.239240Z",
     "shell.execute_reply": "2024-06-22T19:39:35.237446Z"
    },
    "papermill": {
     "duration": 4.212976,
     "end_time": "2024-06-22T19:39:35.242571",
     "exception": false,
     "start_time": "2024-06-22T19:39:31.029595",
     "status": "completed"
    },
    "tags": []
   },
   "outputs": [
    {
     "name": "stdout",
     "output_type": "stream",
     "text": [
      "Creating submission DataFrame...\n"
     ]
    }
   ],
   "source": [
    "# Create a submission dataframe\n",
    "\n",
    "print(\"Creating submission DataFrame...\")\n",
    "submission = pd.DataFrame.from_dict(predictions, orient='index', columns=['rating'])\n",
    "submission.index.name = 'Id'\n",
    "submission.reset_index(inplace=True)"
   ]
  },
  {
   "cell_type": "code",
   "execution_count": 15,
   "id": "46ec7fbc",
   "metadata": {
    "execution": {
     "iopub.execute_input": "2024-06-22T19:39:36.221419Z",
     "iopub.status.busy": "2024-06-22T19:39:36.220575Z",
     "iopub.status.idle": "2024-06-22T19:39:56.461485Z",
     "shell.execute_reply": "2024-06-22T19:39:56.459762Z"
    },
    "papermill": {
     "duration": 20.735887,
     "end_time": "2024-06-22T19:39:56.465151",
     "exception": false,
     "start_time": "2024-06-22T19:39:35.729264",
     "status": "completed"
    },
    "tags": []
   },
   "outputs": [
    {
     "name": "stdout",
     "output_type": "stream",
     "text": [
      "Saving submission to CSV...\n",
      "Done!\n"
     ]
    }
   ],
   "source": [
    "# Save the submission\n",
    "\n",
    "print(\"Saving submission to CSV...\")\n",
    "submission.to_csv('submission.csv', index=False)\n",
    "print(\"Done!\")"
   ]
  }
 ],
 "metadata": {
  "kaggle": {
   "accelerator": "none",
   "dataSources": [
    {
     "databundleVersionId": 8778365,
     "sourceId": 81285,
     "sourceType": "competition"
    }
   ],
   "dockerImageVersionId": 30732,
   "isGpuEnabled": false,
   "isInternetEnabled": false,
   "language": "python",
   "sourceType": "notebook"
  },
  "kernelspec": {
   "display_name": "Python 3",
   "language": "python",
   "name": "python3"
  },
  "language_info": {
   "codemirror_mode": {
    "name": "ipython",
    "version": 3
   },
   "file_extension": ".py",
   "mimetype": "text/x-python",
   "name": "python",
   "nbconvert_exporter": "python",
   "pygments_lexer": "ipython3",
   "version": "3.10.13"
  },
  "papermill": {
   "default_parameters": {},
   "duration": 2794.249411,
   "end_time": "2024-06-22T19:40:00.007397",
   "environment_variables": {},
   "exception": null,
   "input_path": "__notebook__.ipynb",
   "output_path": "__notebook__.ipynb",
   "parameters": {},
   "start_time": "2024-06-22T18:53:25.757986",
   "version": "2.5.0"
  }
 },
 "nbformat": 4,
 "nbformat_minor": 5
}
