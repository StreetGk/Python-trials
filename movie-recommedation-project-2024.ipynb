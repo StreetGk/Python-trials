{
 "cells": [
  {
   "cell_type": "code",
   "execution_count": 1,
   "id": "f1640bb2",
   "metadata": {
    "_cell_guid": "b1076dfc-b9ad-4769-8c92-a6c4dae69d19",
    "_uuid": "8f2839f25d086af736a60e9eeb907d3b93b6e0e5",
    "execution": {
     "iopub.execute_input": "2024-06-22T18:59:09.191474Z",
     "iopub.status.busy": "2024-06-22T18:59:09.191063Z",
     "iopub.status.idle": "2024-06-22T18:59:10.138159Z",
     "shell.execute_reply": "2024-06-22T18:59:10.136948Z"
    },
    "papermill": {
     "duration": 0.956271,
     "end_time": "2024-06-22T18:59:10.140826",
     "exception": false,
     "start_time": "2024-06-22T18:59:09.184555",
     "status": "completed"
    },
    "tags": []
   },
   "outputs": [
    {
     "name": "stdout",
     "output_type": "stream",
     "text": [
      "/kaggle/input/alx-movie-recommendation-project-2024/sample_submission.csv\n",
      "/kaggle/input/alx-movie-recommendation-project-2024/movies.csv\n",
      "/kaggle/input/alx-movie-recommendation-project-2024/imdb_data.csv\n",
      "/kaggle/input/alx-movie-recommendation-project-2024/genome_tags.csv\n",
      "/kaggle/input/alx-movie-recommendation-project-2024/genome_scores.csv\n",
      "/kaggle/input/alx-movie-recommendation-project-2024/train.csv\n",
      "/kaggle/input/alx-movie-recommendation-project-2024/test.csv\n",
      "/kaggle/input/alx-movie-recommendation-project-2024/tags.csv\n",
      "/kaggle/input/alx-movie-recommendation-project-2024/links.csv\n"
     ]
    }
   ],
   "source": [
    "# This Python 3 environment comes with many helpful analytics libraries installed\n",
    "# It is defined by the kaggle/python Docker image: https://github.com/kaggle/docker-python\n",
    "# For example, here's several helpful packages to load\n",
    "\n",
    "import numpy as np # linear algebra\n",
    "import pandas as pd # data processing, CSV file I/O (e.g. pd.read_csv)\n",
    "\n",
    "# Input data files are available in the read-only \"../input/\" directory\n",
    "# For example, running this (by clicking run or pressing Shift+Enter) will list all files under the input directory\n",
    "\n",
    "import os\n",
    "for dirname, _, filenames in os.walk('/kaggle/input'):\n",
    "    for filename in filenames:\n",
    "        print(os.path.join(dirname, filename))\n",
    "\n",
    "# You can write up to 20GB to the current directory (/kaggle/working/) that gets preserved as output when you create a version using \"Save & Run All\" \n",
    "# You can also write temporary files to /kaggle/temp/, but they won't be saved outside of the current session"
   ]
  },
  {
   "cell_type": "code",
   "execution_count": 2,
   "id": "22fd96c8",
   "metadata": {
    "execution": {
     "iopub.execute_input": "2024-06-22T18:59:10.151667Z",
     "iopub.status.busy": "2024-06-22T18:59:10.151174Z",
     "iopub.status.idle": "2024-06-22T18:59:12.129310Z",
     "shell.execute_reply": "2024-06-22T18:59:12.127913Z"
    },
    "papermill": {
     "duration": 1.98652,
     "end_time": "2024-06-22T18:59:12.131990",
     "exception": false,
     "start_time": "2024-06-22T18:59:10.145470",
     "status": "completed"
    },
    "tags": []
   },
   "outputs": [],
   "source": [
    "from tqdm import tqdm\n",
    "import heapq\n",
    "import datetime\n",
    "from sklearn import preprocessing\n",
    "from sklearn.datasets import make_blobs\n",
    "from sklearn.preprocessing import StandardScaler\n",
    "from sklearn.feature_extraction.text import TfidfVectorizer\n",
    "from sklearn.metrics.pairwise import cosine_similarity\n",
    "import re\n",
    "from scipy.sparse import csr_matrix\n",
    "import scipy as sp\n",
    "\n",
    "\n",
    "# Packages for visualization\n",
    "import matplotlib.pyplot as plt\n",
    "import seaborn as sns\n",
    "%matplotlib inline\n",
    "\n",
    "# Packages for modeling\n",
    "from surprise import Reader\n",
    "from surprise import Dataset\n",
    "from surprise import KNNWithMeans\n",
    "from surprise import KNNBasic\n",
    "from surprise.model_selection import cross_validate\n",
    "from surprise.model_selection import GridSearchCV\n",
    "from surprise import SVD\n",
    "from surprise import SVDpp\n",
    "from surprise import NMF\n",
    "from surprise import SlopeOne\n",
    "from surprise import CoClustering\n",
    "import heapq\n",
    "\n",
    "# Packages for model evaluation\n",
    "from sklearn.metrics import mean_squared_error\n",
    "from sklearn.metrics import mean_absolute_error\n",
    "from time import time\n",
    "\n",
    "# Package to suppress warnings\n",
    "import warnings\n",
    "warnings.filterwarnings(\"ignore\")\n",
    "\n",
    "# Packages for saving models\n",
    "import pickle"
   ]
  },
  {
   "cell_type": "code",
   "execution_count": 3,
   "id": "2fa07fdd",
   "metadata": {
    "execution": {
     "iopub.execute_input": "2024-06-22T18:59:12.143416Z",
     "iopub.status.busy": "2024-06-22T18:59:12.142852Z",
     "iopub.status.idle": "2024-06-22T18:59:25.113091Z",
     "shell.execute_reply": "2024-06-22T18:59:25.111914Z"
    },
    "papermill": {
     "duration": 12.979021,
     "end_time": "2024-06-22T18:59:25.115815",
     "exception": false,
     "start_time": "2024-06-22T18:59:12.136794",
     "status": "completed"
    },
    "tags": []
   },
   "outputs": [],
   "source": [
    "# load the data\n",
    "\n",
    "train_df = pd.read_csv('/kaggle/input/alx-movie-recommendation-project-2024/train.csv')\n",
    "movies_df = pd.read_csv('/kaggle/input/alx-movie-recommendation-project-2024/movies.csv')\n",
    "imdb_df = pd.read_csv('/kaggle/input/alx-movie-recommendation-project-2024/imdb_data.csv')\n",
    "test_df = pd.read_csv('/kaggle/input/alx-movie-recommendation-project-2024/test.csv')\n",
    "links_df = pd.read_csv('/kaggle/input/alx-movie-recommendation-project-2024/links.csv')\n",
    "tags = pd.read_csv('/kaggle/input/alx-movie-recommendation-project-2024/tags.csv')\n",
    "genome_scores = pd.read_csv('/kaggle/input/alx-movie-recommendation-project-2024/genome_tags.csv')\n",
    "genome_tags = pd.read_csv('/kaggle/input/alx-movie-recommendation-project-2024/tags.csv')\n",
    "sample_submissions = pd.read_csv('/kaggle/input/alx-movie-recommendation-project-2024/sample_submission.csv')"
   ]
  },
  {
   "cell_type": "code",
   "execution_count": 4,
   "id": "d2146bca",
   "metadata": {
    "execution": {
     "iopub.execute_input": "2024-06-22T18:59:25.126574Z",
     "iopub.status.busy": "2024-06-22T18:59:25.126204Z",
     "iopub.status.idle": "2024-06-22T18:59:25.148218Z",
     "shell.execute_reply": "2024-06-22T18:59:25.146839Z"
    },
    "papermill": {
     "duration": 0.030294,
     "end_time": "2024-06-22T18:59:25.150755",
     "exception": false,
     "start_time": "2024-06-22T18:59:25.120461",
     "status": "completed"
    },
    "tags": []
   },
   "outputs": [
    {
     "data": {
      "text/html": [
       "<div>\n",
       "<style scoped>\n",
       "    .dataframe tbody tr th:only-of-type {\n",
       "        vertical-align: middle;\n",
       "    }\n",
       "\n",
       "    .dataframe tbody tr th {\n",
       "        vertical-align: top;\n",
       "    }\n",
       "\n",
       "    .dataframe thead th {\n",
       "        text-align: right;\n",
       "    }\n",
       "</style>\n",
       "<table border=\"1\" class=\"dataframe\">\n",
       "  <thead>\n",
       "    <tr style=\"text-align: right;\">\n",
       "      <th></th>\n",
       "      <th>movieId</th>\n",
       "      <th>title</th>\n",
       "      <th>genres</th>\n",
       "    </tr>\n",
       "  </thead>\n",
       "  <tbody>\n",
       "    <tr>\n",
       "      <th>0</th>\n",
       "      <td>1</td>\n",
       "      <td>Toy Story (1995)</td>\n",
       "      <td>Adventure|Animation|Children|Comedy|Fantasy</td>\n",
       "    </tr>\n",
       "    <tr>\n",
       "      <th>1</th>\n",
       "      <td>2</td>\n",
       "      <td>Jumanji (1995)</td>\n",
       "      <td>Adventure|Children|Fantasy</td>\n",
       "    </tr>\n",
       "    <tr>\n",
       "      <th>2</th>\n",
       "      <td>3</td>\n",
       "      <td>Grumpier Old Men (1995)</td>\n",
       "      <td>Comedy|Romance</td>\n",
       "    </tr>\n",
       "    <tr>\n",
       "      <th>3</th>\n",
       "      <td>4</td>\n",
       "      <td>Waiting to Exhale (1995)</td>\n",
       "      <td>Comedy|Drama|Romance</td>\n",
       "    </tr>\n",
       "    <tr>\n",
       "      <th>4</th>\n",
       "      <td>5</td>\n",
       "      <td>Father of the Bride Part II (1995)</td>\n",
       "      <td>Comedy</td>\n",
       "    </tr>\n",
       "  </tbody>\n",
       "</table>\n",
       "</div>"
      ],
      "text/plain": [
       "   movieId                               title  \\\n",
       "0        1                    Toy Story (1995)   \n",
       "1        2                      Jumanji (1995)   \n",
       "2        3             Grumpier Old Men (1995)   \n",
       "3        4            Waiting to Exhale (1995)   \n",
       "4        5  Father of the Bride Part II (1995)   \n",
       "\n",
       "                                        genres  \n",
       "0  Adventure|Animation|Children|Comedy|Fantasy  \n",
       "1                   Adventure|Children|Fantasy  \n",
       "2                               Comedy|Romance  \n",
       "3                         Comedy|Drama|Romance  \n",
       "4                                       Comedy  "
      ]
     },
     "execution_count": 4,
     "metadata": {},
     "output_type": "execute_result"
    }
   ],
   "source": [
    "movies_df.head()"
   ]
  },
  {
   "cell_type": "code",
   "execution_count": 5,
   "id": "7b18a675",
   "metadata": {
    "execution": {
     "iopub.execute_input": "2024-06-22T18:59:25.161484Z",
     "iopub.status.busy": "2024-06-22T18:59:25.161122Z",
     "iopub.status.idle": "2024-06-22T18:59:25.167841Z",
     "shell.execute_reply": "2024-06-22T18:59:25.166696Z"
    },
    "papermill": {
     "duration": 0.014783,
     "end_time": "2024-06-22T18:59:25.170183",
     "exception": false,
     "start_time": "2024-06-22T18:59:25.155400",
     "status": "completed"
    },
    "tags": []
   },
   "outputs": [
    {
     "data": {
      "text/plain": [
       "(62423, 3)"
      ]
     },
     "execution_count": 5,
     "metadata": {},
     "output_type": "execute_result"
    }
   ],
   "source": [
    "movies_df.shape"
   ]
  },
  {
   "cell_type": "code",
   "execution_count": 6,
   "id": "47ddff16",
   "metadata": {
    "execution": {
     "iopub.execute_input": "2024-06-22T18:59:25.181149Z",
     "iopub.status.busy": "2024-06-22T18:59:25.180757Z",
     "iopub.status.idle": "2024-06-22T18:59:25.316277Z",
     "shell.execute_reply": "2024-06-22T18:59:25.314922Z"
    },
    "papermill": {
     "duration": 0.144172,
     "end_time": "2024-06-22T18:59:25.319116",
     "exception": false,
     "start_time": "2024-06-22T18:59:25.174944",
     "status": "completed"
    },
    "tags": []
   },
   "outputs": [
    {
     "name": "stdout",
     "output_type": "stream",
     "text": [
      "Train: \n",
      "userId       0\n",
      "movieId      0\n",
      "rating       0\n",
      "timestamp    0\n",
      "dtype: int64\n",
      "************\n",
      "Test: \n",
      "userId     0\n",
      "movieId    0\n",
      "dtype: int64\n",
      "************\n",
      "Movies: \n",
      "movieId    0\n",
      "title      0\n",
      "genres     0\n",
      "dtype: int64\n",
      "************\n",
      "Links: \n",
      "movieId      0\n",
      "imdbId       0\n",
      "tmdbId     107\n",
      "dtype: int64\n",
      "************\n",
      "IMDB: \n",
      "movieId              0\n",
      "title_cast       10068\n",
      "director          9874\n",
      "runtime          12089\n",
      "budget           19372\n",
      "plot_keywords    11078\n",
      "dtype: int64\n",
      "************\n",
      "Genome scores: \n",
      "tagId    0\n",
      "tag      0\n",
      "dtype: int64\n",
      "************\n",
      "Genome tags: \n",
      "userId        0\n",
      "movieId       0\n",
      "tag          16\n",
      "timestamp     0\n",
      "dtype: int64\n"
     ]
    }
   ],
   "source": [
    "\n",
    "\n",
    "print(\"Train: \")\n",
    "print(str(train_df.isnull().sum()))\n",
    "print(\"************\")\n",
    "print(\"Test: \")\n",
    "print(str(test_df.isnull().sum()))\n",
    "print(\"************\")\n",
    "print(\"Movies: \")\n",
    "print(str(movies_df.isnull().sum()))\n",
    "print(\"************\")\n",
    "print(\"Links: \")\n",
    "print(str(links_df.isnull().sum()))\n",
    "print(\"************\")\n",
    "print(\"IMDB: \")\n",
    "print(str(imdb_df.isnull().sum()))\n",
    "print(\"************\")\n",
    "print(\"Genome scores: \")\n",
    "print(str(genome_scores.isnull().sum()))\n",
    "print(\"************\")\n",
    "print(\"Genome tags: \")\n",
    "print(str(genome_tags.isnull().sum()))"
   ]
  },
  {
   "cell_type": "code",
   "execution_count": 7,
   "id": "224c4ad0",
   "metadata": {
    "execution": {
     "iopub.execute_input": "2024-06-22T18:59:25.330936Z",
     "iopub.status.busy": "2024-06-22T18:59:25.330528Z",
     "iopub.status.idle": "2024-06-22T18:59:25.341871Z",
     "shell.execute_reply": "2024-06-22T18:59:25.340842Z"
    },
    "papermill": {
     "duration": 0.019641,
     "end_time": "2024-06-22T18:59:25.344054",
     "exception": false,
     "start_time": "2024-06-22T18:59:25.324413",
     "status": "completed"
    },
    "tags": []
   },
   "outputs": [
    {
     "data": {
      "text/html": [
       "<div>\n",
       "<style scoped>\n",
       "    .dataframe tbody tr th:only-of-type {\n",
       "        vertical-align: middle;\n",
       "    }\n",
       "\n",
       "    .dataframe tbody tr th {\n",
       "        vertical-align: top;\n",
       "    }\n",
       "\n",
       "    .dataframe thead th {\n",
       "        text-align: right;\n",
       "    }\n",
       "</style>\n",
       "<table border=\"1\" class=\"dataframe\">\n",
       "  <thead>\n",
       "    <tr style=\"text-align: right;\">\n",
       "      <th></th>\n",
       "      <th>movieId</th>\n",
       "      <th>title</th>\n",
       "      <th>genres</th>\n",
       "    </tr>\n",
       "  </thead>\n",
       "  <tbody>\n",
       "    <tr>\n",
       "      <th>0</th>\n",
       "      <td>1</td>\n",
       "      <td>Toy Story (1995)</td>\n",
       "      <td>Adventure|Animation|Children|Comedy|Fantasy</td>\n",
       "    </tr>\n",
       "    <tr>\n",
       "      <th>1</th>\n",
       "      <td>2</td>\n",
       "      <td>Jumanji (1995)</td>\n",
       "      <td>Adventure|Children|Fantasy</td>\n",
       "    </tr>\n",
       "    <tr>\n",
       "      <th>2</th>\n",
       "      <td>3</td>\n",
       "      <td>Grumpier Old Men (1995)</td>\n",
       "      <td>Comedy|Romance</td>\n",
       "    </tr>\n",
       "    <tr>\n",
       "      <th>3</th>\n",
       "      <td>4</td>\n",
       "      <td>Waiting to Exhale (1995)</td>\n",
       "      <td>Comedy|Drama|Romance</td>\n",
       "    </tr>\n",
       "    <tr>\n",
       "      <th>4</th>\n",
       "      <td>5</td>\n",
       "      <td>Father of the Bride Part II (1995)</td>\n",
       "      <td>Comedy</td>\n",
       "    </tr>\n",
       "  </tbody>\n",
       "</table>\n",
       "</div>"
      ],
      "text/plain": [
       "   movieId                               title  \\\n",
       "0        1                    Toy Story (1995)   \n",
       "1        2                      Jumanji (1995)   \n",
       "2        3             Grumpier Old Men (1995)   \n",
       "3        4            Waiting to Exhale (1995)   \n",
       "4        5  Father of the Bride Part II (1995)   \n",
       "\n",
       "                                        genres  \n",
       "0  Adventure|Animation|Children|Comedy|Fantasy  \n",
       "1                   Adventure|Children|Fantasy  \n",
       "2                               Comedy|Romance  \n",
       "3                         Comedy|Drama|Romance  \n",
       "4                                       Comedy  "
      ]
     },
     "execution_count": 7,
     "metadata": {},
     "output_type": "execute_result"
    }
   ],
   "source": [
    "movies_df.head()"
   ]
  },
  {
   "cell_type": "code",
   "execution_count": 8,
   "id": "89b44736",
   "metadata": {
    "execution": {
     "iopub.execute_input": "2024-06-22T18:59:25.356046Z",
     "iopub.status.busy": "2024-06-22T18:59:25.355624Z",
     "iopub.status.idle": "2024-06-22T18:59:25.369823Z",
     "shell.execute_reply": "2024-06-22T18:59:25.368739Z"
    },
    "papermill": {
     "duration": 0.022988,
     "end_time": "2024-06-22T18:59:25.372253",
     "exception": false,
     "start_time": "2024-06-22T18:59:25.349265",
     "status": "completed"
    },
    "tags": []
   },
   "outputs": [
    {
     "data": {
      "text/html": [
       "<div>\n",
       "<style scoped>\n",
       "    .dataframe tbody tr th:only-of-type {\n",
       "        vertical-align: middle;\n",
       "    }\n",
       "\n",
       "    .dataframe tbody tr th {\n",
       "        vertical-align: top;\n",
       "    }\n",
       "\n",
       "    .dataframe thead th {\n",
       "        text-align: right;\n",
       "    }\n",
       "</style>\n",
       "<table border=\"1\" class=\"dataframe\">\n",
       "  <thead>\n",
       "    <tr style=\"text-align: right;\">\n",
       "      <th></th>\n",
       "      <th>userId</th>\n",
       "      <th>movieId</th>\n",
       "      <th>rating</th>\n",
       "      <th>timestamp</th>\n",
       "    </tr>\n",
       "  </thead>\n",
       "  <tbody>\n",
       "    <tr>\n",
       "      <th>0</th>\n",
       "      <td>5163</td>\n",
       "      <td>57669</td>\n",
       "      <td>4.0</td>\n",
       "      <td>1518349992</td>\n",
       "    </tr>\n",
       "    <tr>\n",
       "      <th>1</th>\n",
       "      <td>106343</td>\n",
       "      <td>5</td>\n",
       "      <td>4.5</td>\n",
       "      <td>1206238739</td>\n",
       "    </tr>\n",
       "    <tr>\n",
       "      <th>2</th>\n",
       "      <td>146790</td>\n",
       "      <td>5459</td>\n",
       "      <td>5.0</td>\n",
       "      <td>1076215539</td>\n",
       "    </tr>\n",
       "    <tr>\n",
       "      <th>3</th>\n",
       "      <td>106362</td>\n",
       "      <td>32296</td>\n",
       "      <td>2.0</td>\n",
       "      <td>1423042565</td>\n",
       "    </tr>\n",
       "    <tr>\n",
       "      <th>4</th>\n",
       "      <td>9041</td>\n",
       "      <td>366</td>\n",
       "      <td>3.0</td>\n",
       "      <td>833375837</td>\n",
       "    </tr>\n",
       "  </tbody>\n",
       "</table>\n",
       "</div>"
      ],
      "text/plain": [
       "   userId  movieId  rating   timestamp\n",
       "0    5163    57669     4.0  1518349992\n",
       "1  106343        5     4.5  1206238739\n",
       "2  146790     5459     5.0  1076215539\n",
       "3  106362    32296     2.0  1423042565\n",
       "4    9041      366     3.0   833375837"
      ]
     },
     "execution_count": 8,
     "metadata": {},
     "output_type": "execute_result"
    }
   ],
   "source": [
    "train_df.head()"
   ]
  },
  {
   "cell_type": "code",
   "execution_count": 9,
   "id": "4e9d854f",
   "metadata": {
    "execution": {
     "iopub.execute_input": "2024-06-22T18:59:25.384539Z",
     "iopub.status.busy": "2024-06-22T18:59:25.384146Z",
     "iopub.status.idle": "2024-06-22T18:59:25.393901Z",
     "shell.execute_reply": "2024-06-22T18:59:25.392899Z"
    },
    "papermill": {
     "duration": 0.018498,
     "end_time": "2024-06-22T18:59:25.395966",
     "exception": false,
     "start_time": "2024-06-22T18:59:25.377468",
     "status": "completed"
    },
    "tags": []
   },
   "outputs": [
    {
     "data": {
      "text/html": [
       "<div>\n",
       "<style scoped>\n",
       "    .dataframe tbody tr th:only-of-type {\n",
       "        vertical-align: middle;\n",
       "    }\n",
       "\n",
       "    .dataframe tbody tr th {\n",
       "        vertical-align: top;\n",
       "    }\n",
       "\n",
       "    .dataframe thead th {\n",
       "        text-align: right;\n",
       "    }\n",
       "</style>\n",
       "<table border=\"1\" class=\"dataframe\">\n",
       "  <thead>\n",
       "    <tr style=\"text-align: right;\">\n",
       "      <th></th>\n",
       "      <th>userId</th>\n",
       "      <th>movieId</th>\n",
       "    </tr>\n",
       "  </thead>\n",
       "  <tbody>\n",
       "    <tr>\n",
       "      <th>0</th>\n",
       "      <td>1</td>\n",
       "      <td>2011</td>\n",
       "    </tr>\n",
       "    <tr>\n",
       "      <th>1</th>\n",
       "      <td>1</td>\n",
       "      <td>4144</td>\n",
       "    </tr>\n",
       "    <tr>\n",
       "      <th>2</th>\n",
       "      <td>1</td>\n",
       "      <td>5767</td>\n",
       "    </tr>\n",
       "    <tr>\n",
       "      <th>3</th>\n",
       "      <td>1</td>\n",
       "      <td>6711</td>\n",
       "    </tr>\n",
       "    <tr>\n",
       "      <th>4</th>\n",
       "      <td>1</td>\n",
       "      <td>7318</td>\n",
       "    </tr>\n",
       "  </tbody>\n",
       "</table>\n",
       "</div>"
      ],
      "text/plain": [
       "   userId  movieId\n",
       "0       1     2011\n",
       "1       1     4144\n",
       "2       1     5767\n",
       "3       1     6711\n",
       "4       1     7318"
      ]
     },
     "execution_count": 9,
     "metadata": {},
     "output_type": "execute_result"
    }
   ],
   "source": [
    "test_df.head()"
   ]
  },
  {
   "cell_type": "code",
   "execution_count": 10,
   "id": "50c9717c",
   "metadata": {
    "execution": {
     "iopub.execute_input": "2024-06-22T18:59:25.408710Z",
     "iopub.status.busy": "2024-06-22T18:59:25.408327Z",
     "iopub.status.idle": "2024-06-22T18:59:36.726900Z",
     "shell.execute_reply": "2024-06-22T18:59:36.725858Z"
    },
    "papermill": {
     "duration": 11.327884,
     "end_time": "2024-06-22T18:59:36.729463",
     "exception": false,
     "start_time": "2024-06-22T18:59:25.401579",
     "status": "completed"
    },
    "tags": []
   },
   "outputs": [],
   "source": [
    "# Prepare the data for the Surprise library\n",
    "reader = Reader(rating_scale=(0.5, 5.0))\n",
    "data = Dataset.load_from_df(train_df[['userId', 'movieId', 'rating']], reader)"
   ]
  },
  {
   "cell_type": "code",
   "execution_count": 11,
   "id": "b1e10545",
   "metadata": {
    "execution": {
     "iopub.execute_input": "2024-06-22T18:59:36.742335Z",
     "iopub.status.busy": "2024-06-22T18:59:36.741530Z",
     "iopub.status.idle": "2024-06-22T19:03:45.381007Z",
     "shell.execute_reply": "2024-06-22T19:03:45.379862Z"
    },
    "papermill": {
     "duration": 248.653135,
     "end_time": "2024-06-22T19:03:45.387989",
     "exception": false,
     "start_time": "2024-06-22T18:59:36.734854",
     "status": "completed"
    },
    "tags": []
   },
   "outputs": [
    {
     "data": {
      "text/plain": [
       "<surprise.prediction_algorithms.matrix_factorization.SVD at 0x78d4f46471c0>"
      ]
     },
     "execution_count": 11,
     "metadata": {},
     "output_type": "execute_result"
    }
   ],
   "source": [
    "# Train the models\n",
    "\n",
    "svd = SVD()\n",
    "trainset = data.build_full_trainset()\n",
    "svd.fit(trainset)"
   ]
  },
  {
   "cell_type": "code",
   "execution_count": 12,
   "id": "91017301",
   "metadata": {
    "execution": {
     "iopub.execute_input": "2024-06-22T19:03:45.400697Z",
     "iopub.status.busy": "2024-06-22T19:03:45.400281Z",
     "iopub.status.idle": "2024-06-22T19:04:41.199102Z",
     "shell.execute_reply": "2024-06-22T19:04:41.197945Z"
    },
    "papermill": {
     "duration": 55.808532,
     "end_time": "2024-06-22T19:04:41.201925",
     "exception": false,
     "start_time": "2024-06-22T19:03:45.393393",
     "status": "completed"
    },
    "tags": []
   },
   "outputs": [],
   "source": [
    "# Create a set of test pairs\n",
    "test_pairs = set(test_df.apply(lambda row: f\"{row['userId']}_{row['movieId']}\", axis=1))\n",
    "\n",
    "def get_predictions_batch(svd, test_pairs, batch_size=1000):\n",
    "    predictions = {}\n",
    "    for i in tqdm(range(0, len(test_pairs), batch_size)):\n",
    "        batch_pairs = list(test_pairs)[i:i+batch_size]\n",
    "        for pair in batch_pairs:\n",
    "            user, movie = map(int, pair.split('_'))\n",
    "            est = svd.predict(user, movie).est\n",
    "            predictions[pair] = est\n",
    "    return predictions"
   ]
  },
  {
   "cell_type": "code",
   "execution_count": 13,
   "id": "ae03901f",
   "metadata": {
    "execution": {
     "iopub.execute_input": "2024-06-22T19:04:41.215909Z",
     "iopub.status.busy": "2024-06-22T19:04:41.215504Z",
     "iopub.status.idle": "2024-06-22T19:34:35.174355Z",
     "shell.execute_reply": "2024-06-22T19:34:35.172854Z"
    },
    "papermill": {
     "duration": 1793.968027,
     "end_time": "2024-06-22T19:34:35.176851",
     "exception": false,
     "start_time": "2024-06-22T19:04:41.208824",
     "status": "completed"
    },
    "tags": []
   },
   "outputs": [
    {
     "name": "stdout",
     "output_type": "stream",
     "text": [
      "Getting predictions...\n"
     ]
    },
    {
     "name": "stderr",
     "output_type": "stream",
     "text": [
      "100%|██████████| 5001/5001 [29:53<00:00,  2.79it/s]\n"
     ]
    }
   ],
   "source": [
    "# Generate the prediction\n",
    "\n",
    "print(\"Getting predictions...\")\n",
    "predictions = get_predictions_batch(svd, test_pairs)"
   ]
  },
  {
   "cell_type": "code",
   "execution_count": 14,
   "id": "f51f69ab",
   "metadata": {
    "execution": {
     "iopub.execute_input": "2024-06-22T19:34:35.820582Z",
     "iopub.status.busy": "2024-06-22T19:34:35.820162Z",
     "iopub.status.idle": "2024-06-22T19:34:38.405454Z",
     "shell.execute_reply": "2024-06-22T19:34:38.404460Z"
    },
    "papermill": {
     "duration": 2.911839,
     "end_time": "2024-06-22T19:34:38.407914",
     "exception": false,
     "start_time": "2024-06-22T19:34:35.496075",
     "status": "completed"
    },
    "tags": []
   },
   "outputs": [
    {
     "name": "stdout",
     "output_type": "stream",
     "text": [
      "Creating submission DataFrame...\n"
     ]
    }
   ],
   "source": [
    "# Create a submission dataframe\n",
    "\n",
    "print(\"Creating submission DataFrame...\")\n",
    "submission = pd.DataFrame.from_dict(predictions, orient='index', columns=['rating'])\n",
    "submission.index.name = 'Id'\n",
    "submission.reset_index(inplace=True)"
   ]
  },
  {
   "cell_type": "code",
   "execution_count": 15,
   "id": "77c325dd",
   "metadata": {
    "execution": {
     "iopub.execute_input": "2024-06-22T19:34:39.085375Z",
     "iopub.status.busy": "2024-06-22T19:34:39.084865Z",
     "iopub.status.idle": "2024-06-22T19:34:52.513134Z",
     "shell.execute_reply": "2024-06-22T19:34:52.511551Z"
    },
    "papermill": {
     "duration": 13.786927,
     "end_time": "2024-06-22T19:34:52.515705",
     "exception": false,
     "start_time": "2024-06-22T19:34:38.728778",
     "status": "completed"
    },
    "tags": []
   },
   "outputs": [
    {
     "name": "stdout",
     "output_type": "stream",
     "text": [
      "Saving submission to CSV...\n",
      "Done!\n"
     ]
    }
   ],
   "source": [
    "# Save the submission\n",
    "\n",
    "print(\"Saving submission to CSV...\")\n",
    "submission.to_csv('submission.csv', index=False)\n",
    "print(\"Done!\")"
   ]
  }
 ],
 "metadata": {
  "kaggle": {
   "accelerator": "none",
   "dataSources": [
    {
     "databundleVersionId": 8778365,
     "sourceId": 81285,
     "sourceType": "competition"
    }
   ],
   "dockerImageVersionId": 30732,
   "isGpuEnabled": false,
   "isInternetEnabled": false,
   "language": "python",
   "sourceType": "notebook"
  },
  "kernelspec": {
   "display_name": "Python 3",
   "language": "python",
   "name": "python3"
  },
  "language_info": {
   "codemirror_mode": {
    "name": "ipython",
    "version": 3
   },
   "file_extension": ".py",
   "mimetype": "text/x-python",
   "name": "python",
   "nbconvert_exporter": "python",
   "pygments_lexer": "ipython3",
   "version": "3.10.13"
  },
  "papermill": {
   "default_parameters": {},
   "duration": 2149.516645,
   "end_time": "2024-06-22T19:34:55.838246",
   "environment_variables": {},
   "exception": null,
   "input_path": "__notebook__.ipynb",
   "output_path": "__notebook__.ipynb",
   "parameters": {},
   "start_time": "2024-06-22T18:59:06.321601",
   "version": "2.5.0"
  }
 },
 "nbformat": 4,
 "nbformat_minor": 5
}
